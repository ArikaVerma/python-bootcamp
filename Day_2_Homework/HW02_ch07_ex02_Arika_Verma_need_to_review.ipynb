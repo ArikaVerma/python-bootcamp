{
 "cells": [
  {
   "cell_type": "code",
   "execution_count": null,
   "metadata": {},
   "outputs": [],
   "source": [
    "#!/usr/bin/env python3\n",
    "# HW04_ch07_ex02\n",
    "\n",
    "# The built-in function eval takes a string and evaluates it using the Python\n",
    "# interpreter.\n",
    "# For example:\n",
    "\n",
    "#     >>> eval('1 + 2 * 3')\n",
    "#     7\n",
    "#     >>> import math\n",
    "#     >>> eval('math.sqrt(5)')\n",
    "#     2.2360679774997898\n",
    "#     >>> eval('type(math.pi)')\n",
    "#     <type 'float'>\n",
    "\n",
    "# Write a function called eval_loop that iteratively prompts the user, takes\n",
    "# the resulting input and evaluates it using eval, and prints the result.\n",
    "\n",
    "# It should continue until the user enters 'done', and then return the value of\n",
    "# the last expression it evaluated.\n",
    "\n",
    "# Here is an opportunity to use things like `try`, `except`, and/or `finally`.\n",
    "\n",
    "# Please write a docstring for every function you write.\n",
    "\n",
    "game_active = True\n",
    "\n",
    "#creating a function & importing math\n",
    "def eval_loop():\n",
    "    import math \n",
    "    \n",
    "#creating a while loop, to iteratively prompt user import    \n",
    "    while game_active == True:\n",
    "        \n",
    "        user_input = input (\"Input a statement to evaluate using Python's eval function. If you are finished, enter 'done':    \")\n",
    "        #asking for user input for the eval function\n",
    "        print (eval(user_input))\n",
    "    \n",
    "        #ISSUE: asking the user to terminate the loop, with the word \"done\". I am getting an error when I run this though, because it says done is not defined - I'm not sure how to correct this\n",
    "        if user_input == \"done\":\n",
    "            break\n",
    "        \n",
    "            print(\"Thanks for using Python's eval function!\")\n",
    "\n",
    "eval_loop()"
   ]
  },
  {
   "cell_type": "code",
   "execution_count": 1,
   "metadata": {},
   "outputs": [
    {
     "ename": "NameError",
     "evalue": "name 'eval_loop' is not defined",
     "output_type": "error",
     "traceback": [
      "\u001b[0;31m---------------------------------------------------------------------------\u001b[0m",
      "\u001b[0;31mNameError\u001b[0m                                 Traceback (most recent call last)",
      "\u001b[0;32m<ipython-input-1-c3fdaf00585f>\u001b[0m in \u001b[0;36m<module>\u001b[0;34m\u001b[0m\n\u001b[1;32m     14\u001b[0m \u001b[0;34m\u001b[0m\u001b[0m\n\u001b[1;32m     15\u001b[0m \u001b[0;32mif\u001b[0m \u001b[0m__name__\u001b[0m \u001b[0;34m==\u001b[0m \u001b[0;34m'__main__'\u001b[0m\u001b[0;34m:\u001b[0m\u001b[0;34m\u001b[0m\u001b[0;34m\u001b[0m\u001b[0m\n\u001b[0;32m---> 16\u001b[0;31m     \u001b[0mmain\u001b[0m\u001b[0;34m(\u001b[0m\u001b[0;34m)\u001b[0m\u001b[0;34m\u001b[0m\u001b[0;34m\u001b[0m\u001b[0m\n\u001b[0m",
      "\u001b[0;32m<ipython-input-1-c3fdaf00585f>\u001b[0m in \u001b[0;36mmain\u001b[0;34m()\u001b[0m\n\u001b[1;32m     10\u001b[0m     \u001b[0;32mpass\u001b[0m\u001b[0;34m\u001b[0m\u001b[0;34m\u001b[0m\u001b[0m\n\u001b[1;32m     11\u001b[0m \u001b[0;34m\u001b[0m\u001b[0m\n\u001b[0;32m---> 12\u001b[0;31m     \u001b[0mprint\u001b[0m\u001b[0;34m(\u001b[0m\u001b[0meval_loop\u001b[0m\u001b[0;34m(\u001b[0m\u001b[0;34m)\u001b[0m\u001b[0;34m)\u001b[0m\u001b[0;34m\u001b[0m\u001b[0;34m\u001b[0m\u001b[0m\n\u001b[0m\u001b[1;32m     13\u001b[0m \u001b[0;34m\u001b[0m\u001b[0m\n\u001b[1;32m     14\u001b[0m \u001b[0;34m\u001b[0m\u001b[0m\n",
      "\u001b[0;31mNameError\u001b[0m: name 'eval_loop' is not defined"
     ]
    }
   ],
   "source": [
    "###############################################################################\n",
    "# Imports\n",
    "\n",
    "\n",
    "# Body\n",
    "\n",
    "\n",
    "###############################################################################\n",
    "def main():\n",
    "    pass  \n",
    "    \n",
    "    print(eval_loop())\n",
    "\n",
    "\n",
    "if __name__ == '__main__':\n",
    "    main()\n"
   ]
  }
 ],
 "metadata": {
  "kernelspec": {
   "display_name": "Python 3",
   "language": "python",
   "name": "python3"
  },
  "language_info": {
   "codemirror_mode": {
    "name": "ipython",
    "version": 3
   },
   "file_extension": ".py",
   "mimetype": "text/x-python",
   "name": "python",
   "nbconvert_exporter": "python",
   "pygments_lexer": "ipython3",
   "version": "3.7.1"
  }
 },
 "nbformat": 4,
 "nbformat_minor": 2
}
