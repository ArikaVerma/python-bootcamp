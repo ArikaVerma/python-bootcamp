{
 "cells": [
  {
   "cell_type": "code",
   "execution_count": 2,
   "metadata": {},
   "outputs": [
    {
     "name": "stdout",
     "output_type": "stream",
     "text": [
      "Guess which number was generated?  1\n",
      "You guessed too low!\n",
      "Guess which number was generated?  1\n",
      "You guessed too low!\n",
      "Guess which number was generated?  1\n",
      "You guessed too low!\n",
      "Guess which number was generated?  1\n",
      "You guessed too low!\n",
      "Guess which number was generated?  1\n",
      "You guessed too low!\n",
      "Sorry, you are out of guesses. The correct answer was: 25\n"
     ]
    }
   ],
   "source": [
    "#!/usr/bin/env python3\n",
    "# D04_ex00\n",
    "\n",
    "# Create a program that does the following:\n",
    "#     - creates a random integer from 1 - 25\n",
    "#     - asks the user to guess what the number is\n",
    "#     - validates input is a number\n",
    "#     - tells the user if they guess correctly\n",
    "#         - if not: tells them too high/low\n",
    "#     - only lets the user guess five times\n",
    "#         - then ends the program\n",
    "\n",
    "# Please write a docstring for every function you write.\n",
    "\n",
    "from random import *\n",
    "\n",
    "def guessing_game():\n",
    "    \n",
    "    #generates a random number\n",
    "    number = (randint(1, 25))\n",
    "    guesses_taken = 0 \n",
    "    \n",
    "    #creates a limit to how many guesses, increments the number of guesses after a guess is taken\n",
    "    while guesses_taken <5:\n",
    "        user_guess = int(input(\"Guess which number was generated?  \"))\n",
    "        guesses_taken += 1\n",
    "        \n",
    "    #lets the user know if they guessed too high or too low\n",
    "        if user_guess > number:\n",
    "            print(\"You guessed too high!\")\n",
    "\n",
    "        if user_guess < number: \n",
    "            print(\"You guessed too low!\")\n",
    "\n",
    "        else:\n",
    "            break\n",
    "    \n",
    "    #let's the user know if they guessed correctly or if they're out of guesses \n",
    "    if user_guess == number:\n",
    "        print(\"You guessed correctly!\")      \n",
    "\n",
    "    else: \n",
    "        print(\"Sorry, you are out of guesses. The correct answer was:\", number)\n",
    "    \n",
    "guessing_game()"
   ]
  },
  {
   "cell_type": "code",
   "execution_count": 3,
   "metadata": {},
   "outputs": [
    {
     "name": "stdout",
     "output_type": "stream",
     "text": [
      "Guess which number was generated?  1\n",
      "You guessed too low!\n",
      "Guess which number was generated?  1\n",
      "You guessed too low!\n",
      "Guess which number was generated?  1\n",
      "You guessed too low!\n",
      "Guess which number was generated?  1\n",
      "You guessed too low!\n",
      "Guess which number was generated?  1\n",
      "You guessed too low!\n",
      "Sorry, you are out of guesses. The correct answer was: 5\n"
     ]
    }
   ],
   "source": [
    "###############################################################################\n",
    "# Imports\n",
    "\n",
    "\n",
    "# Body\n",
    "\n",
    "\n",
    "###############################################################################\n",
    "def main():\n",
    "   \n",
    "    guessing_game()\n",
    "\n",
    "if __name__ == '__main__':\n",
    "    main()\n"
   ]
  }
 ],
 "metadata": {
  "kernelspec": {
   "display_name": "Python 3",
   "language": "python",
   "name": "python3"
  },
  "language_info": {
   "codemirror_mode": {
    "name": "ipython",
    "version": 3
   },
   "file_extension": ".py",
   "mimetype": "text/x-python",
   "name": "python",
   "nbconvert_exporter": "python",
   "pygments_lexer": "ipython3",
   "version": "3.7.1"
  }
 },
 "nbformat": 4,
 "nbformat_minor": 2
}
