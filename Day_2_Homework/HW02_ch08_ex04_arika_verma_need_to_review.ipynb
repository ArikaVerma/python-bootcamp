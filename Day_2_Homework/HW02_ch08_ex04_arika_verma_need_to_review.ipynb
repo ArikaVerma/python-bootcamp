{
 "cells": [
  {
   "cell_type": "code",
   "execution_count": 1,
   "metadata": {},
   "outputs": [
    {
     "name": "stdout",
     "output_type": "stream",
     "text": [
      "Hello World!\n",
      "False\n"
     ]
    }
   ],
   "source": [
    "#!/usr/bin/env python3\n",
    "# HW04_ch08_ex04\n",
    "\n",
    "# The following functions are all intended to check whether a string contains\n",
    "# any lowercase letters, but at least some of them are wrong. For each\n",
    "# function, describe (is the docstring) what the function actually does.\n",
    "# You can assume that the parameter is a string.\n",
    "\n",
    "# Do not merely paste the output as a counterexample into the documentation\n",
    "# string, explain what is wrong.\n",
    "\n",
    "\n",
    "###############################################################################\n",
    "# Body\n",
    "\n",
    "#I'm not sure what's wrong with 1, 2, 5. But they're not giving the right outputs. \n",
    "def any_lowercase1(s):\n",
    "    \"\"\"EXPLAIN\n",
    "    \"\"\"\n",
    "    for c in s:\n",
    "        if c.islower():\n",
    "            return True\n",
    "        else:\n",
    "            return False\n",
    "\n",
    "\n",
    "def any_lowercase2(s):\n",
    "    \"\"\" EXPLAIN\n",
    "    \"\"\"\n",
    "    for c in s:\n",
    "        if 'c'.islower():\n",
    "            return 'True'\n",
    "        else:\n",
    "            return 'False'\n",
    "\n",
    "\n",
    "def any_lowercase3(s):\n",
    "    \"\"\"Nothing is wrong.\n",
    "    \"\"\"\n",
    "    for c in s:\n",
    "        flag = c.islower()\n",
    "    return flag\n",
    "\n",
    "\n",
    "def any_lowercase4(s):\n",
    "    \"\"\"Nothing is wrong.\n",
    "    \"\"\"\n",
    "    flag = False\n",
    "    for c in s:\n",
    "        flag = flag or c.islower()\n",
    "    return flag\n",
    "\n",
    "\n",
    "def any_lowercase5(s):\n",
    "    \"\"\"EXPLAIN\n",
    "    \"\"\"\n",
    "    for c in s:\n",
    "        if not c.islower():\n",
    "            return False\n",
    "    return True\n",
    "\n",
    "\n",
    "###############################################################################\n",
    "def main():\n",
    "\n",
    "    # Remove print(\"Hello World!\") and for each function above that is wrong,\n",
    "    # call that function with a string for which the function returns\n",
    "    # incorrectly.\n",
    "    # ex.: any_lowercase_(\"thisstringmessesupthefunction\")\n",
    "    print(\"Hello World!\")\n",
    "    print(any_lowercase5(\"tO\"))\n",
    "\n",
    "if __name__ == '__main__':\n",
    "    main()\n"
   ]
  }
 ],
 "metadata": {
  "kernelspec": {
   "display_name": "Python 3",
   "language": "python",
   "name": "python3"
  },
  "language_info": {
   "codemirror_mode": {
    "name": "ipython",
    "version": 3
   },
   "file_extension": ".py",
   "mimetype": "text/x-python",
   "name": "python",
   "nbconvert_exporter": "python",
   "pygments_lexer": "ipython3",
   "version": "3.7.1"
  }
 },
 "nbformat": 4,
 "nbformat_minor": 2
}
