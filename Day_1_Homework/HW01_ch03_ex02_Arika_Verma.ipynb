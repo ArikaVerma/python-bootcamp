{
 "cells": [
  {
   "cell_type": "code",
   "execution_count": 35,
   "metadata": {},
   "outputs": [
    {
     "name": "stdout",
     "output_type": "stream",
     "text": [
      "spam\n"
     ]
    }
   ],
   "source": [
    "#!/usr/bin/env python\n",
    "# HW02_ch03_ex02\n",
    "\n",
    "# A function object is a value you can assign to a variable or pass as an\n",
    "# argument. For example, do_twice is a function that takes a function object\n",
    "# as an argument and calls it twice:\n",
    "\n",
    "# def do_twice(f):\n",
    "#     f()\n",
    "#     f()\n",
    "\n",
    "# Here's an example that uses `do_twice` to call a function named `print_spam`\n",
    "# twice.\n",
    "# def print_spam():\n",
    "#     print('spam')\n",
    "\n",
    "# do_twice(print_spam)\n",
    "\n",
    "# 1. Type this example into this script and test it.\n",
    "\n",
    "def print_spam():\n",
    "    print('spam')\n",
    "    \n",
    "print_spam()"
   ]
  },
  {
   "cell_type": "code",
   "execution_count": 34,
   "metadata": {},
   "outputs": [
    {
     "name": "stdout",
     "output_type": "stream",
     "text": [
      "hello\n",
      "hello\n"
     ]
    }
   ],
   "source": [
    "# 2. Modify `do_twice` so that it takes two arguments, a function object and a\n",
    "# value, and calls the function twice, passing the value as an argument.\n",
    "\n",
    "def do_twice(f, b):\n",
    "    f(b)\n",
    "    f(b)\n",
    "    \n",
    "do_twice(print, 'hello') "
   ]
  },
  {
   "cell_type": "code",
   "execution_count": 36,
   "metadata": {},
   "outputs": [
    {
     "name": "stdout",
     "output_type": "stream",
     "text": [
      "george\n",
      "george\n"
     ]
    }
   ],
   "source": [
    "# 3. Write a more general version of `print_spam`, called `print_twice`, \n",
    "# that takes a string as a parameter and prints it twice.\n",
    "\n",
    "def print_twice(b):\n",
    "    print(b)\n",
    "    print(b)\n",
    "    \n",
    "print_twice('george')"
   ]
  },
  {
   "cell_type": "code",
   "execution_count": 43,
   "metadata": {},
   "outputs": [
    {
     "name": "stdout",
     "output_type": "stream",
     "text": [
      "spam\n",
      "spam\n",
      "spam\n",
      "spam\n"
     ]
    }
   ],
   "source": [
    "# 4. Use the modified version of `do_twice` to call `print_twice` twice, passing 'spam' as an argument.\n",
    "\n",
    "def do_twice(f, b):\n",
    "    f(b)\n",
    "    f(b)\n",
    "    \n",
    "do_twice(print_twice, 'spam') "
   ]
  },
  {
   "cell_type": "code",
   "execution_count": 57,
   "metadata": {},
   "outputs": [
    {
     "name": "stdout",
     "output_type": "stream",
     "text": [
      "spam\n",
      "spam\n",
      "spam\n",
      "spam\n",
      "spam\n",
      "spam\n",
      "spam\n",
      "spam\n"
     ]
    }
   ],
   "source": [
    "# 5. Define a new function called `do_four` that takes a function object and a\n",
    "# value and calls the function four times, passing the value as a parameter.\n",
    "# There should be only two statements in the body of this function, not four.\n",
    "\n",
    "def do_four(f,b):\n",
    "    do_twice(f,b)\n",
    "    do_twice(f,b)\n",
    "\n",
    "do_four(print_twice, 'spam')"
   ]
  },
  {
   "cell_type": "code",
   "execution_count": 70,
   "metadata": {},
   "outputs": [
    {
     "name": "stdout",
     "output_type": "stream",
     "text": [
      "a\n",
      "a\n",
      "a\n",
      "a\n",
      "a\n",
      "a\n",
      "a\n",
      "a\n"
     ]
    }
   ],
   "source": [
    "###############################################################################\n",
    "# Write your functions below:\n",
    "# Body\n",
    "\n",
    "# Write your functions above:\n",
    "###############################################################################\n",
    "def main():\n",
    "\n",
    "    \"\"\"Call your functions within this function.\n",
    "    When complete have one function call in this function:\n",
    "    do_four(print_twice, 'a')\n",
    "    \"\"\"\n",
    "    do_four(print_twice, 'a')\n",
    "\n",
    "if __name__ == \"__main__\":\n",
    "    main()\n"
   ]
  }
 ],
 "metadata": {
  "kernelspec": {
   "display_name": "Python 3",
   "language": "python",
   "name": "python3"
  },
  "language_info": {
   "codemirror_mode": {
    "name": "ipython",
    "version": 3
   },
   "file_extension": ".py",
   "mimetype": "text/x-python",
   "name": "python",
   "nbconvert_exporter": "python",
   "pygments_lexer": "ipython3",
   "version": "3.7.1"
  }
 },
 "nbformat": 4,
 "nbformat_minor": 2
}
