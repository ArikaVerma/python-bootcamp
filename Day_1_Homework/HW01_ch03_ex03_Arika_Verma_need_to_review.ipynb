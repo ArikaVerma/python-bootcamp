{
 "cells": [
  {
   "cell_type": "code",
   "execution_count": 66,
   "metadata": {},
   "outputs": [
    {
     "name": "stdout",
     "output_type": "stream",
     "text": [
      "+ - - - - + - - - - ++ - - - - + - - - - +\n",
      "|         |         |\n",
      "|         |         |\n",
      "|         |         |\n",
      "|         |         |\n",
      "+ - - - - + - - - - +\n",
      "|         |         |\n",
      "|         |         |\n",
      "|         |         |\n",
      "|         |         |\n",
      "+ - - - - + - - - - +\n"
     ]
    }
   ],
   "source": [
    "#!/usr/bin/env python\n",
    "# HW02_ch03_ex03\n",
    "\n",
    "# This exercise can be done using only the statements and other features we\n",
    "# have learned so far.\n",
    "\n",
    "# (1) Write a function that draws a grid like the following:\n",
    "# + - - - - + - - - - +\n",
    "# |         |         |\n",
    "# |         |         |\n",
    "# |         |         |\n",
    "# |         |         |\n",
    "# + - - - - + - - - - +\n",
    "# |         |         |\n",
    "# |         |         |\n",
    "# |         |         |\n",
    "# |         |         |\n",
    "# + - - - - + - - - - +\n",
    "\n",
    "# Hint: to print more than one value on a line, you can print a\n",
    "# comma-separated sequence of values:\n",
    "\n",
    "# print('+', '-')\n",
    "\n",
    "# By default, print advances to the next line, but you can\n",
    "# override that behavior and put a space at the end, like this:\n",
    "\n",
    "# print('+', end=' ')\n",
    "# print('-')\n",
    "\n",
    "# The output of these statements is '+ -'.\n",
    "\n",
    "# A print statement with no argument ends the current line and goes to the next line.\n",
    "\n",
    "\n",
    "def two_by():\n",
    "    print (\"+ - - - - + - - - - +\")\n",
    "    print (\"|         |         |\")\n",
    "    print (\"|         |         |\")\n",
    "    print (\"|         |         |\")\n",
    "    print (\"|         |         |\")\n",
    "    print (\"+ - - - - + - - - - +\")\n",
    "    print (\"|         |         |\")\n",
    "    print (\"|         |         |\")\n",
    "    print (\"|         |         |\")\n",
    "    print (\"|         |         |\")\n",
    "    print (\"+ - - - - + - - - - +\")\n",
    "\n",
    "grid()"
   ]
  },
  {
   "cell_type": "code",
   "execution_count": 57,
   "metadata": {},
   "outputs": [
    {
     "name": "stdout",
     "output_type": "stream",
     "text": [
      "Hello World!\n"
     ]
    }
   ],
   "source": [
    "# (2) Write a function that draws a similar grid with four rows and four\n",
    "# columns.\n",
    "\n",
    "def grid():\n",
    "    print (\"+ - - - - + - - - - + - - - - +\")\n",
    "    print (\"|         |         |\")\n",
    "    print (\"|         |         |\")\n",
    "    print (\"|         |         |\")\n",
    "    print (\"|         |         |\")\n",
    "    print (\"+ - - - - + - - - - +\")\n",
    "    print (\"|         |         |\")\n",
    "    print (\"|         |         |\")\n",
    "    print (\"|         |         |\")\n",
    "    print (\"|         |         |\")\n",
    "    print (\"+ - - - - + - - - - +\")\n",
    "\n",
    "grid()\n",
    "\n",
    "###############################################################################\n",
    "# Write your functions below:\n",
    "# Body\n",
    "\n",
    "\n",
    "# Write your functions above:\n",
    "###############################################################################\n",
    "def main():\n",
    "    \"\"\"Call your functions within this function.\n",
    "    When complete have two function calls in this function:\n",
    "    two_by_two()\n",
    "    four_by_four()\n",
    "    \"\"\"\n",
    "    print(\"Hello World!\")\n",
    "\n",
    "\n",
    "if __name__ == \"__main__\":\n",
    "    main()\n"
   ]
  },
  {
   "cell_type": "code",
   "execution_count": null,
   "metadata": {},
   "outputs": [],
   "source": []
  }
 ],
 "metadata": {
  "kernelspec": {
   "display_name": "Python 3",
   "language": "python",
   "name": "python3"
  },
  "language_info": {
   "codemirror_mode": {
    "name": "ipython",
    "version": 3
   },
   "file_extension": ".py",
   "mimetype": "text/x-python",
   "name": "python",
   "nbconvert_exporter": "python",
   "pygments_lexer": "ipython3",
   "version": "3.7.1"
  }
 },
 "nbformat": 4,
 "nbformat_minor": 2
}
