{
 "cells": [
  {
   "cell_type": "code",
   "execution_count": 62,
   "metadata": {},
   "outputs": [
    {
     "name": "stdout",
     "output_type": "stream",
     "text": [
      "                                                           Hello World\n",
      "                                                                Python\n",
      "                                                                 Arika\n"
     ]
    }
   ],
   "source": [
    "#!/usr/bin/env python\n",
    "# HW02_ch03_ex01\n",
    "\n",
    "# Python provides a built-in function called len that returns the length\n",
    "# of a string, so the value of len('monty') is 5.\n",
    "\n",
    "# Write a function named `right_justify` that takes a string named `s` as a\n",
    "# parameter and prints the string with enough leading spaces so that the\n",
    "# last letter of the string is in column 70 of the display.\n",
    "\n",
    "# Example:\n",
    "# >>> right_justify('monty')\n",
    "#                                                                  monty\n",
    "###############################################################################\n",
    "# Write your function below:\n",
    "# Body\n",
    "\n",
    "#print(string.rjust(width))\n",
    "\n",
    "# Write your function above:\n",
    "###############################################################################\n",
    "string = 'Hello World'\n",
    "width = 70\n",
    "\n",
    "print(string.rjust(width))\n",
    "\n",
    "string = 'Python'\n",
    "width = 70\n",
    "\n",
    "print(string.rjust(width))\n",
    "\n",
    "string = 'Arika'\n",
    "width = 70\n",
    "\n",
    "print(string.rjust(width))"
   ]
  }
 ],
 "metadata": {
  "kernelspec": {
   "display_name": "Python 3",
   "language": "python",
   "name": "python3"
  },
  "language_info": {
   "codemirror_mode": {
    "name": "ipython",
    "version": 3
   },
   "file_extension": ".py",
   "mimetype": "text/x-python",
   "name": "python",
   "nbconvert_exporter": "python",
   "pygments_lexer": "ipython3",
   "version": "3.7.1"
  }
 },
 "nbformat": 4,
 "nbformat_minor": 2
}
