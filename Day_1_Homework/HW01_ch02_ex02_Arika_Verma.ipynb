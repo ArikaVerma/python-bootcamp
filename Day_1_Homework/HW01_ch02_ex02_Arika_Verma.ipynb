{
 "cells": [
  {
   "cell_type": "code",
   "execution_count": 1,
   "metadata": {},
   "outputs": [
    {
     "name": "stdout",
     "output_type": "stream",
     "text": [
      "523.33\n"
     ]
    }
   ],
   "source": [
    "# HW01_ch02_ex02\n",
    "# NOTE: You do not run this script.\n",
    "# #\n",
    "# Practice using the Python interpreter as a calculator.\n",
    "# Paste answer and calculations below\n",
    "\n",
    "# 1. The volume of a sphere with radius r is 4/3 π r^3.\n",
    "#What is the volume of a sphere with radius 5? 523.33\n",
    "a = 4.0/3.0\n",
    "r = 5.0\n",
    "pi = 3.14\n",
    "\n",
    "print(round (a * pi * 5 ** 3, 2))"
   ]
  },
  {
   "cell_type": "code",
   "execution_count": 2,
   "metadata": {},
   "outputs": [
    {
     "name": "stdout",
     "output_type": "stream",
     "text": [
      "898.1999999999999\n",
      "48.0\n",
      "47.0\n",
      "945.2\n"
     ]
    }
   ],
   "source": [
    "# 2. Suppose the cover price of a book is $24.95, but bookstores get a\n",
    "# 40% discount. Shipping costs $3 for the first copy and 75 cents for\n",
    "# each additional copy. What is the total wholesale cost for 60 copies? $945.2\n",
    "\n",
    "p = 24.95 \n",
    "d = 0.40 \n",
    "n = 60\n",
    "\n",
    "#calculate the cost per book\n",
    "print ((p-p * d) * n)\n",
    "\n",
    "#calculate the cost of shipping\n",
    "print (3 + 0.75 * n)\n",
    "\n",
    "#calculate the cost of shipping\n",
    "print (3 + 0.75 * n-1)\n",
    "\n",
    "#add the costs together\n",
    "\n",
    "print (round(898.1999999999999 + 47.0, 2))"
   ]
  },
  {
   "cell_type": "code",
   "execution_count": 3,
   "metadata": {},
   "outputs": [
    {
     "name": "stdout",
     "output_type": "stream",
     "text": [
      "6.866666666666667\n",
      "0.1375\n",
      "0.12000000000000001\n",
      "0.635\n",
      "7.501666666666667\n"
     ]
    }
   ],
   "source": [
    "# 3. If I leave my house at 6:52 am and run 1 mile at an easy pace\n",
    "# (8:15 per mile), then 3 miles at tempo (7:12 per mile) and 1 mile at easy\n",
    "# pace again, what time do I get home for breakfast?\n",
    "# time: [answer here] 7:50am\n",
    "# [calculations here]\n",
    "\n",
    "starttime = print(6 + 52 / 60.0)\n",
    "#starttime = 6.866666666666667\n",
    "\n",
    "easypace = print((8 + 15 / 60.0 ) / 60.0)\n",
    "#easypace = 0.1375\n",
    "\n",
    "tempopace = print((7 + 12 / 60.0) / 60.0)\n",
    "#tempopace = 0.12000000000000001\n",
    "\n",
    "runningtime = print((2 * 0.1375) + (3 * 0.12000000000000001))\n",
    "#runningtime = 0.635\n",
    "\n",
    "breakfasttime = print (6.866666666666667 + 0.635)\n",
    "#breakfasttime = 7.50"
   ]
  }
 ],
 "metadata": {
  "kernelspec": {
   "display_name": "Python 3",
   "language": "python",
   "name": "python3"
  },
  "language_info": {
   "codemirror_mode": {
    "name": "ipython",
    "version": 3
   },
   "file_extension": ".py",
   "mimetype": "text/x-python",
   "name": "python",
   "nbconvert_exporter": "python",
   "pygments_lexer": "ipython3",
   "version": "3.7.1"
  }
 },
 "nbformat": 4,
 "nbformat_minor": 2
}
