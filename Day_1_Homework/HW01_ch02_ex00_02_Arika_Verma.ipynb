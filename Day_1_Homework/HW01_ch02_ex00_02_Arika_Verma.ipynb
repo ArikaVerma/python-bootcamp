{
 "cells": [
  {
   "cell_type": "code",
   "execution_count": 14,
   "metadata": {},
   "outputs": [],
   "source": [
    "# HW01_ch02_ex00_02\n",
    "# NOTE: You do not run this script.\n",
    "# Assume that we execute the following assignment statements:\n",
    "# width = 17\n",
    "# height = 12.0\n",
    "# delimiter = '.'\n",
    "#\n",
    "# For each of the following expressions, write the value of the expression\n",
    "# and the type (of the value of the expression).\n",
    "\n",
    "# 1. width/2\n",
    "# value: 8.5\n",
    "# type: float"
   ]
  },
  {
   "cell_type": "code",
   "execution_count": null,
   "metadata": {},
   "outputs": [],
   "source": [
    "# 2. width/2.0\n",
    "# value: 8.5\n",
    "# type: float"
   ]
  },
  {
   "cell_type": "code",
   "execution_count": null,
   "metadata": {},
   "outputs": [],
   "source": [
    "# 3. height/3\n",
    "# value: 4.0\n",
    "# type: float"
   ]
  },
  {
   "cell_type": "code",
   "execution_count": null,
   "metadata": {},
   "outputs": [],
   "source": [
    "# 4. 1 + 2 * 5\n",
    "# value: 11\n",
    "# type: int"
   ]
  },
  {
   "cell_type": "code",
   "execution_count": null,
   "metadata": {},
   "outputs": [],
   "source": [
    "# 5. delimiter * 5\n",
    "# value: N/A\n",
    "# type: N/A\n",
    "#\n",
    "# Use the Python interpreter to check your answers.\n",
    "# [comment on any surprises here]\n",
    "#I learned that one cannot multiply by a delimiter, because it is akin to a grammatical notation "
   ]
  }
 ],
 "metadata": {
  "kernelspec": {
   "display_name": "Python 3",
   "language": "python",
   "name": "python3"
  },
  "language_info": {
   "codemirror_mode": {
    "name": "ipython",
    "version": 3
   },
   "file_extension": ".py",
   "mimetype": "text/x-python",
   "name": "python",
   "nbconvert_exporter": "python",
   "pygments_lexer": "ipython3",
   "version": "3.7.1"
  }
 },
 "nbformat": 4,
 "nbformat_minor": 2
}
