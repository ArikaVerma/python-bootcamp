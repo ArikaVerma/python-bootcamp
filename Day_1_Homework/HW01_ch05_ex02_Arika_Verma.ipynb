{
 "cells": [
  {
   "cell_type": "code",
   "execution_count": 2,
   "metadata": {},
   "outputs": [
    {
     "name": "stdout",
     "output_type": "stream",
     "text": [
      "No, that doesn’t work.\n"
     ]
    }
   ],
   "source": [
    "#!/usr/bin/env python\n",
    "# HW02_ch05_ex02\n",
    "\n",
    "# Fermat's Last Theorem says that there are no positive integers a, b, and c\n",
    "# such that\n",
    "#        a^n + b^n = c^n\n",
    "# for any values of n greater than 2.\n",
    "\n",
    "# (1) Write a function named `check_fermat` that takes four parameters-a, b, c\n",
    "# and n-and that checks to see if Fermat's theorem holds. If n is greater than\n",
    "# 2 and it turns out to be true that\n",
    "#        a^n + b^n = c^n\n",
    "# the program should print, \"Holy smokes, Fermat was wrong!\"\"\n",
    "# Otherwise the program should print, \"No, that doesn't work.\"\n",
    "\n",
    "def check_fermat(a, b, c, n):\n",
    "    if n > 2 and (a**n + b**n == c**n):\n",
    "        print(\"Holy smokes, Fermat was wrong!\")\n",
    "    else:\n",
    "        print(\"No, that doesn’t work.\")\n",
    "\n",
    "check_fermat (1, 2, 3, 4)"
   ]
  },
  {
   "cell_type": "code",
   "execution_count": 3,
   "metadata": {},
   "outputs": [],
   "source": [
    "# (2) Write a function named `check_fermat_ints` that prompts the user to input\n",
    "# values for a, b, c and n, converts them to integers, and uses check_fermat\n",
    "# to check whether they violate Fermat's theorem.\n",
    "\n",
    "def check_fermat(a, b, c, n):\n",
    "    if n > 2 and (a**n + b**n == c**n):\n",
    "        print(\"Holy smokes, Fermat was wrong!\")\n",
    "    else:\n",
    "        print(\"No, that doesn’t work.\")\n",
    "\n",
    "def check_fermat_ints(a, b, c, n):\n",
    "    check_fermat(a,b,c,n)\n"
   ]
  },
  {
   "cell_type": "code",
   "execution_count": 4,
   "metadata": {},
   "outputs": [
    {
     "name": "stdout",
     "output_type": "stream",
     "text": [
      "Choose a number for a: 1\n",
      "Choose a number for b: 2\n",
      "Choose a number for c: 3\n",
      "Choose a number for n: 4\n",
      "No, that doesn’t work.\n"
     ]
    }
   ],
   "source": [
    "###############################################################################\n",
    "# Write your functions below:\n",
    "# Body\n",
    "\n",
    "\n",
    "# Write your functions above:\n",
    "###############################################################################\n",
    "def main():\n",
    "    \"\"\"Call your function within this function.\n",
    "    When complete have one function call in this function:\n",
    "    \"\"\"\n",
    "    a = int(input(\"Choose a number for a: \"))\n",
    "    b = int(input(\"Choose a number for b: \"))\n",
    "    c = int(input(\"Choose a number for c: \"))\n",
    "    n = int(input(\"Choose a number for n: \"))\n",
    "    \n",
    "    check_fermat_ints(a,b,c,n)\n",
    "\n",
    "if __name__ == \"__main__\":\n",
    "    main()"
   ]
  },
  {
   "cell_type": "code",
   "execution_count": null,
   "metadata": {},
   "outputs": [],
   "source": []
  }
 ],
 "metadata": {
  "kernelspec": {
   "display_name": "Python 3",
   "language": "python",
   "name": "python3"
  },
  "language_info": {
   "codemirror_mode": {
    "name": "ipython",
    "version": 3
   },
   "file_extension": ".py",
   "mimetype": "text/x-python",
   "name": "python",
   "nbconvert_exporter": "python",
   "pygments_lexer": "ipython3",
   "version": "3.7.1"
  }
 },
 "nbformat": 4,
 "nbformat_minor": 2
}
