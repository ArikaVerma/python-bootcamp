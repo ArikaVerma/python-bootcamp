{
 "cells": [
  {
   "cell_type": "code",
   "execution_count": 44,
   "metadata": {},
   "outputs": [],
   "source": [
    "# HW01_ch01_ex02_03\n",
    "# Start the Python interpreter and use it as a calculator.\n",
    "# Python's syntax for math operations is almost the same as\n",
    "# standard mathematical notation. For example, the symbols\n",
    "# +, - and / denote addition, subtraction and division, as you would expect.\n",
    "# The symbol for multiplication is *.\n",
    "\n",
    "# If you run a 10 kilometer race in 42 minutes 42 seconds...\n",
    "# What is your average pace (time per mile in minutes and seconds)? \n",
    "# What is your average speed in miles per hour?\n",
    "\n",
    "# Insert Answers\n",
    "# Average Pace (minutes & seconds per mile): 6.87 minutes and seconds per mile\n",
    "# Average Speed in MPH:  8.731208430913348 miles per hour\n",
    "\n",
    "# Insert calculations below (paste from the interpreter): See below\n"
   ]
  },
  {
   "cell_type": "code",
   "execution_count": 18,
   "metadata": {
    "scrolled": true
   },
   "outputs": [
    {
     "name": "stdout",
     "output_type": "stream",
     "text": [
      "6.21371\n"
     ]
    }
   ],
   "source": [
    "#kilometers = 10\n",
    "#conversion factor from kilometers to miles = 0.621371\n",
    "\n",
    "print (10*0.621371)"
   ]
  },
  {
   "cell_type": "code",
   "execution_count": 20,
   "metadata": {},
   "outputs": [
    {
     "name": "stdout",
     "output_type": "stream",
     "text": [
      "2562\n"
     ]
    }
   ],
   "source": [
    "#6.21371 miles\n",
    "#Race was run in 42 minutes and 42 seconds \n",
    "#Convert minutes to seconds\n",
    "\n",
    "print (42*60+42)"
   ]
  },
  {
   "cell_type": "code",
   "execution_count": 30,
   "metadata": {},
   "outputs": [
    {
     "name": "stdout",
     "output_type": "stream",
     "text": [
      "412.31406036007473\n"
     ]
    }
   ],
   "source": [
    "# Race was run in 6.21371 miles over 2562 seconds \n",
    "# How much time did each mile take to complete on average in minutes and seconds?\n",
    "# Calculate average pace (seconds/mile)\n",
    "\n",
    "print (2562/6.21371)"
   ]
  },
  {
   "cell_type": "code",
   "execution_count": 31,
   "metadata": {},
   "outputs": [
    {
     "name": "stdout",
     "output_type": "stream",
     "text": [
      "6.871901006001246\n"
     ]
    }
   ],
   "source": [
    "#convert seconds to minutes \n",
    "\n",
    "print (412.31406036007473 / 60)"
   ]
  },
  {
   "cell_type": "code",
   "execution_count": 33,
   "metadata": {},
   "outputs": [
    {
     "data": {
      "text/plain": [
       "6.87"
      ]
     },
     "execution_count": 33,
     "metadata": {},
     "output_type": "execute_result"
    }
   ],
   "source": [
    "#Average pace was 6.871901006001246 minutes/mile\n",
    "\n",
    "round(6.871901006001246, 2)"
   ]
  },
  {
   "cell_type": "code",
   "execution_count": 41,
   "metadata": {},
   "outputs": [
    {
     "name": "stdout",
     "output_type": "stream",
     "text": [
      "0.7116666666666667\n"
     ]
    }
   ],
   "source": [
    "# convert seconds to hour\n",
    "# What is your average speed in miles per hour?\n",
    "\n",
    "print((2562/60)/60)"
   ]
  },
  {
   "cell_type": "code",
   "execution_count": 42,
   "metadata": {},
   "outputs": [
    {
     "name": "stdout",
     "output_type": "stream",
     "text": [
      "8.731208430913348\n"
     ]
    }
   ],
   "source": [
    "# 0.7116666666666667 hours to complete 6.21371 miles\n",
    "# calculate miles/hour speed\n",
    "\n",
    "\n",
    "print(6.21371/0.7116666666666667)"
   ]
  }
 ],
 "metadata": {
  "kernelspec": {
   "display_name": "Python 3",
   "language": "python",
   "name": "python3"
  },
  "language_info": {
   "codemirror_mode": {
    "name": "ipython",
    "version": 3
   },
   "file_extension": ".py",
   "mimetype": "text/x-python",
   "name": "python",
   "nbconvert_exporter": "python",
   "pygments_lexer": "ipython3",
   "version": "3.7.1"
  }
 },
 "nbformat": 4,
 "nbformat_minor": 2
}
